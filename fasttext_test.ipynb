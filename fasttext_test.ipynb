{
  "nbformat": 4,
  "nbformat_minor": 0,
  "metadata": {
    "colab": {
      "name": "LSTM",
      "provenance": []
    },
    "kernelspec": {
      "name": "python3",
      "display_name": "Python 3"
    },
    "language_info": {
      "name": "python"
    }
  },
  "cells": [
    {
      "cell_type": "code",
      "execution_count": null,
      "metadata": {
        "id": "iwQ8Iul8ELt2"
      },
      "outputs": [],
      "source": [
        "import pandas as pd \n",
        "import numpy as np \n",
        "import nltk\n",
        "nltk.download('all')\n",
        "from nltk.corpus import stopwords\n",
        "from nltk.stem.porter import PorterStemmer\n",
        "from gensim.models.fasttext import FastText\n",
        "import tensorflow as tf\n",
        "from tqdm import tqdm\n",
        "from sklearn.model_selection import train_test_split"
      ]
    },
    {
      "cell_type": "code",
      "source": [
        "df = pd.read_csv('spam_ham_dataset.csv',sep=',',encoding='latin-1')\n",
        "df.sample(5)"
      ],
      "metadata": {
        "colab": {
          "base_uri": "https://localhost:8080/",
          "height": 206
        },
        "id": "0pU8pzbkFFqY",
        "outputId": "db47af96-6bd4-411e-ad0b-522bd0a50019"
      },
      "execution_count": null,
      "outputs": [
        {
          "output_type": "execute_result",
          "data": {
            "text/plain": [
              "      Unnamed: 0 label                                               text  \\\n",
              "1098        2415   ham  Subject: hpl noms . for jan . 19 , 2001\\r\\n( s...   \n",
              "4190        5025  spam  Subject: click here to improve your wellbeing ...   \n",
              "2462         228   ham  Subject: road - show . com q 4 i . com choose ...   \n",
              "2673        2698   ham  Subject: duke energy field 8 / 00\\r\\nplease ch...   \n",
              "2640        4864  spam  Subject: business ideas : march 2005\\r\\nhows i...   \n",
              "\n",
              "      label_num  \n",
              "1098          0  \n",
              "4190          1  \n",
              "2462          0  \n",
              "2673          0  \n",
              "2640          1  "
            ],
            "text/html": [
              "\n",
              "  <div id=\"df-94c4a050-f762-4afb-9046-57c9c3d9ecd9\">\n",
              "    <div class=\"colab-df-container\">\n",
              "      <div>\n",
              "<style scoped>\n",
              "    .dataframe tbody tr th:only-of-type {\n",
              "        vertical-align: middle;\n",
              "    }\n",
              "\n",
              "    .dataframe tbody tr th {\n",
              "        vertical-align: top;\n",
              "    }\n",
              "\n",
              "    .dataframe thead th {\n",
              "        text-align: right;\n",
              "    }\n",
              "</style>\n",
              "<table border=\"1\" class=\"dataframe\">\n",
              "  <thead>\n",
              "    <tr style=\"text-align: right;\">\n",
              "      <th></th>\n",
              "      <th>Unnamed: 0</th>\n",
              "      <th>label</th>\n",
              "      <th>text</th>\n",
              "      <th>label_num</th>\n",
              "    </tr>\n",
              "  </thead>\n",
              "  <tbody>\n",
              "    <tr>\n",
              "      <th>1098</th>\n",
              "      <td>2415</td>\n",
              "      <td>ham</td>\n",
              "      <td>Subject: hpl noms . for jan . 19 , 2001\\r\\n( s...</td>\n",
              "      <td>0</td>\n",
              "    </tr>\n",
              "    <tr>\n",
              "      <th>4190</th>\n",
              "      <td>5025</td>\n",
              "      <td>spam</td>\n",
              "      <td>Subject: click here to improve your wellbeing ...</td>\n",
              "      <td>1</td>\n",
              "    </tr>\n",
              "    <tr>\n",
              "      <th>2462</th>\n",
              "      <td>228</td>\n",
              "      <td>ham</td>\n",
              "      <td>Subject: road - show . com q 4 i . com choose ...</td>\n",
              "      <td>0</td>\n",
              "    </tr>\n",
              "    <tr>\n",
              "      <th>2673</th>\n",
              "      <td>2698</td>\n",
              "      <td>ham</td>\n",
              "      <td>Subject: duke energy field 8 / 00\\r\\nplease ch...</td>\n",
              "      <td>0</td>\n",
              "    </tr>\n",
              "    <tr>\n",
              "      <th>2640</th>\n",
              "      <td>4864</td>\n",
              "      <td>spam</td>\n",
              "      <td>Subject: business ideas : march 2005\\r\\nhows i...</td>\n",
              "      <td>1</td>\n",
              "    </tr>\n",
              "  </tbody>\n",
              "</table>\n",
              "</div>\n",
              "      <button class=\"colab-df-convert\" onclick=\"convertToInteractive('df-94c4a050-f762-4afb-9046-57c9c3d9ecd9')\"\n",
              "              title=\"Convert this dataframe to an interactive table.\"\n",
              "              style=\"display:none;\">\n",
              "        \n",
              "  <svg xmlns=\"http://www.w3.org/2000/svg\" height=\"24px\"viewBox=\"0 0 24 24\"\n",
              "       width=\"24px\">\n",
              "    <path d=\"M0 0h24v24H0V0z\" fill=\"none\"/>\n",
              "    <path d=\"M18.56 5.44l.94 2.06.94-2.06 2.06-.94-2.06-.94-.94-2.06-.94 2.06-2.06.94zm-11 1L8.5 8.5l.94-2.06 2.06-.94-2.06-.94L8.5 2.5l-.94 2.06-2.06.94zm10 10l.94 2.06.94-2.06 2.06-.94-2.06-.94-.94-2.06-.94 2.06-2.06.94z\"/><path d=\"M17.41 7.96l-1.37-1.37c-.4-.4-.92-.59-1.43-.59-.52 0-1.04.2-1.43.59L10.3 9.45l-7.72 7.72c-.78.78-.78 2.05 0 2.83L4 21.41c.39.39.9.59 1.41.59.51 0 1.02-.2 1.41-.59l7.78-7.78 2.81-2.81c.8-.78.8-2.07 0-2.86zM5.41 20L4 18.59l7.72-7.72 1.47 1.35L5.41 20z\"/>\n",
              "  </svg>\n",
              "      </button>\n",
              "      \n",
              "  <style>\n",
              "    .colab-df-container {\n",
              "      display:flex;\n",
              "      flex-wrap:wrap;\n",
              "      gap: 12px;\n",
              "    }\n",
              "\n",
              "    .colab-df-convert {\n",
              "      background-color: #E8F0FE;\n",
              "      border: none;\n",
              "      border-radius: 50%;\n",
              "      cursor: pointer;\n",
              "      display: none;\n",
              "      fill: #1967D2;\n",
              "      height: 32px;\n",
              "      padding: 0 0 0 0;\n",
              "      width: 32px;\n",
              "    }\n",
              "\n",
              "    .colab-df-convert:hover {\n",
              "      background-color: #E2EBFA;\n",
              "      box-shadow: 0px 1px 2px rgba(60, 64, 67, 0.3), 0px 1px 3px 1px rgba(60, 64, 67, 0.15);\n",
              "      fill: #174EA6;\n",
              "    }\n",
              "\n",
              "    [theme=dark] .colab-df-convert {\n",
              "      background-color: #3B4455;\n",
              "      fill: #D2E3FC;\n",
              "    }\n",
              "\n",
              "    [theme=dark] .colab-df-convert:hover {\n",
              "      background-color: #434B5C;\n",
              "      box-shadow: 0px 1px 3px 1px rgba(0, 0, 0, 0.15);\n",
              "      filter: drop-shadow(0px 1px 2px rgba(0, 0, 0, 0.3));\n",
              "      fill: #FFFFFF;\n",
              "    }\n",
              "  </style>\n",
              "\n",
              "      <script>\n",
              "        const buttonEl =\n",
              "          document.querySelector('#df-94c4a050-f762-4afb-9046-57c9c3d9ecd9 button.colab-df-convert');\n",
              "        buttonEl.style.display =\n",
              "          google.colab.kernel.accessAllowed ? 'block' : 'none';\n",
              "\n",
              "        async function convertToInteractive(key) {\n",
              "          const element = document.querySelector('#df-94c4a050-f762-4afb-9046-57c9c3d9ecd9');\n",
              "          const dataTable =\n",
              "            await google.colab.kernel.invokeFunction('convertToInteractive',\n",
              "                                                     [key], {});\n",
              "          if (!dataTable) return;\n",
              "\n",
              "          const docLinkHtml = 'Like what you see? Visit the ' +\n",
              "            '<a target=\"_blank\" href=https://colab.research.google.com/notebooks/data_table.ipynb>data table notebook</a>'\n",
              "            + ' to learn more about interactive tables.';\n",
              "          element.innerHTML = '';\n",
              "          dataTable['output_type'] = 'display_data';\n",
              "          await google.colab.output.renderOutput(dataTable, element);\n",
              "          const docLink = document.createElement('div');\n",
              "          docLink.innerHTML = docLinkHtml;\n",
              "          element.appendChild(docLink);\n",
              "        }\n",
              "      </script>\n",
              "    </div>\n",
              "  </div>\n",
              "  "
            ]
          },
          "metadata": {},
          "execution_count": 5
        }
      ]
    },
    {
      "cell_type": "code",
      "source": [
        "X = df['text']\n",
        "y = df['label']"
      ],
      "metadata": {
        "id": "Mei3EGOzFaaT"
      },
      "execution_count": null,
      "outputs": []
    },
    {
      "cell_type": "code",
      "source": [
        "from text import Preprocessing\n",
        "preprocess = Preprocessing(lemmatize=True)"
      ],
      "metadata": {
        "colab": {
          "base_uri": "https://localhost:8080/"
        },
        "id": "vxLO5_o9FsST",
        "outputId": "b2b2c220-13df-4bf7-a853-3987d3cc6c98"
      },
      "execution_count": null,
      "outputs": [
        {
          "output_type": "stream",
          "name": "stderr",
          "text": [
            "[nltk_data] Downloading package punkt to /root/nltk_data...\n",
            "[nltk_data]   Unzipping tokenizers/punkt.zip.\n"
          ]
        }
      ]
    },
    {
      "cell_type": "code",
      "source": [
        "X.shape"
      ],
      "metadata": {
        "colab": {
          "base_uri": "https://localhost:8080/"
        },
        "id": "cjDQ-7GgF_5l",
        "outputId": "cd590830-7bd2-4ea2-cf01-ee7fb5e2f29e"
      },
      "execution_count": null,
      "outputs": [
        {
          "output_type": "execute_result",
          "data": {
            "text/plain": [
              "(5171,)"
            ]
          },
          "metadata": {},
          "execution_count": 8
        }
      ]
    },
    {
      "cell_type": "code",
      "source": [
        "X = preprocess.Normalize(X)\n",
        "X.sample(5)"
      ],
      "metadata": {
        "colab": {
          "base_uri": "https://localhost:8080/"
        },
        "id": "bdcfjL4UGZuq",
        "outputId": "62aed4cc-0ca1-4c2d-da28-3b00f5807aa7"
      },
      "execution_count": null,
      "outputs": [
        {
          "output_type": "execute_result",
          "data": {
            "text/plain": [
              "265     subject enron hpl actuals for september teco t...\n",
              "322     subject days and the above referenced days hav...\n",
              "2116    subject re april spot tickets the spot deals a...\n",
              "3722    subject enron hpl actuals for june teco tap hp...\n",
              "1673    subject deal extension for for victor can you ...\n",
              "Name: text, dtype: object"
            ]
          },
          "metadata": {},
          "execution_count": 9
        }
      ]
    },
    {
      "cell_type": "code",
      "source": [
        "X = preprocess.tokenize(X)\n",
        "X.sample(5)"
      ],
      "metadata": {
        "colab": {
          "base_uri": "https://localhost:8080/"
        },
        "id": "vJv1zpQLGilg",
        "outputId": "55cfb81b-da79-4bd7-fd35-75896f67b020"
      },
      "execution_count": null,
      "outputs": [
        {
          "output_type": "execute_result",
          "data": {
            "text/plain": [
              "1084    [subject, midcoast, market, deal, ticket, numb...\n",
              "4509            [subject, update, april, update, version]\n",
              "1803    [subject, intrastate, gas, hi, daren, bryan, h...\n",
              "4853    [subject, doctor, visit, stop, waste, money, p...\n",
              "3243    [subject, test, dfarmer, enron, com, doug, ple...\n",
              "Name: text, dtype: object"
            ]
          },
          "metadata": {},
          "execution_count": 12
        }
      ]
    },
    {
      "cell_type": "code",
      "source": [
        "!wget https://dl.fbaipublicfiles.com/fasttext/vectors-english/wiki-news-300d-1M.vec.zip"
      ],
      "metadata": {
        "colab": {
          "base_uri": "https://localhost:8080/"
        },
        "id": "wLVPE1BbIpE9",
        "outputId": "df530f1e-57e6-41df-8293-372aba875275"
      },
      "execution_count": null,
      "outputs": [
        {
          "output_type": "stream",
          "name": "stdout",
          "text": [
            "--2022-07-24 16:56:54--  https://dl.fbaipublicfiles.com/fasttext/vectors-english/wiki-news-300d-1M.vec.zip\n",
            "Resolving dl.fbaipublicfiles.com (dl.fbaipublicfiles.com)... 104.22.74.142, 172.67.9.4, 104.22.75.142, ...\n",
            "Connecting to dl.fbaipublicfiles.com (dl.fbaipublicfiles.com)|104.22.74.142|:443... connected.\n",
            "HTTP request sent, awaiting response... 200 OK\n",
            "Length: 681808098 (650M) [application/zip]\n",
            "Saving to: ‘wiki-news-300d-1M.vec.zip’\n",
            "\n",
            "wiki-news-300d-1M.v 100%[===================>] 650.22M  37.2MB/s    in 18s     \n",
            "\n",
            "2022-07-24 16:57:13 (35.6 MB/s) - ‘wiki-news-300d-1M.vec.zip’ saved [681808098/681808098]\n",
            "\n"
          ]
        }
      ]
    },
    {
      "cell_type": "code",
      "source": [
        "!unzip /content/wiki-news-300d-1M.vec.zip"
      ],
      "metadata": {
        "colab": {
          "base_uri": "https://localhost:8080/"
        },
        "id": "7xNwI_Q1JHuK",
        "outputId": "512d47be-f30f-4cff-db65-899150149393"
      },
      "execution_count": null,
      "outputs": [
        {
          "output_type": "stream",
          "name": "stdout",
          "text": [
            "Archive:  /content/wiki-news-300d-1M.vec.zip\n",
            "  inflating: wiki-news-300d-1M.vec   \n"
          ]
        }
      ]
    },
    {
      "cell_type": "code",
      "source": [
        "!rm /content/wiki-news-300d-1M.vec.zip"
      ],
      "metadata": {
        "id": "7dGOiYTMKIq0"
      },
      "execution_count": null,
      "outputs": []
    },
    {
      "cell_type": "code",
      "source": [
        "import io\n",
        "def load_fasttext(file):\n",
        "    f = io.open(file,'r',encoding = 'utf-8',newline='\\n',errors = 'ignore')\n",
        "    n, d = map(int, f.readline().split())\n",
        "    print(d)\n",
        "    data = dict() #{}\n",
        "    for line in tqdm(f,colour = 'red'):\n",
        "      tokens = line.strip().split(' ')\n",
        "      data[tokens[0]] = np.array(list(map(float, tokens[1:])))\n",
        "    return data"
      ],
      "metadata": {
        "id": "n7A-dqK6G4Vj"
      },
      "execution_count": 20,
      "outputs": []
    },
    {
      "cell_type": "code",
      "source": [
        "load_fasttext('/content/wiki-news-300d-1M.vec')"
      ],
      "metadata": {
        "id": "XpNwnKxhJ0Hi",
        "colab": {
          "base_uri": "https://localhost:8080/"
        },
        "outputId": "ac734751-df7d-4716-9c9d-eacce90b7194"
      },
      "execution_count": 17,
      "outputs": [
        {
          "output_type": "stream",
          "name": "stdout",
          "text": [
            "300\n"
          ]
        }
      ]
    },
    {
      "cell_type": "code",
      "source": [
        "data = load_fasttext('/content/wiki-news-300d-1M.vec')"
      ],
      "metadata": {
        "colab": {
          "base_uri": "https://localhost:8080/"
        },
        "id": "S9So2ZdnKacD",
        "outputId": "317bdf90-8403-47a9-f78a-320b56769617"
      },
      "execution_count": 21,
      "outputs": [
        {
          "output_type": "stream",
          "name": "stdout",
          "text": [
            "300\n"
          ]
        },
        {
          "output_type": "stream",
          "name": "stderr",
          "text": [
            "999994it [01:23, 11949.56it/s]\n"
          ]
        }
      ]
    },
    {
      "cell_type": "code",
      "source": [
        "data['Nandhini']"
      ],
      "metadata": {
        "colab": {
          "base_uri": "https://localhost:8080/"
        },
        "id": "gpa6Pfl_LMeC",
        "outputId": "3260f3b0-0568-4f17-bce3-b7dc1a145e4f"
      },
      "execution_count": 32,
      "outputs": [
        {
          "output_type": "execute_result",
          "data": {
            "text/plain": [
              "array([ 7.800e-03, -3.850e-02, -8.810e-02,  2.100e-03, -1.596e-01,\n",
              "        6.070e-02, -2.620e-02,  3.910e-02,  6.900e-03,  6.310e-02,\n",
              "        7.570e-02,  1.100e-02,  7.000e-03, -1.643e-01,  5.270e-02,\n",
              "        1.591e-01,  1.870e-02,  1.575e-01, -3.080e-02, -7.010e-02,\n",
              "       -1.569e-01, -5.230e-02, -2.080e-02, -5.350e-02, -1.048e-01,\n",
              "        1.076e-01, -4.330e-02,  7.400e-03, -9.590e-02, -6.000e-02,\n",
              "        8.330e-02, -1.030e-01,  8.130e-02,  5.530e-02, -2.080e-02,\n",
              "       -3.870e-02,  1.043e-01,  9.530e-02, -2.420e-02, -1.204e-01,\n",
              "       -2.840e-02, -5.900e-03, -8.560e-02,  1.800e-03,  4.870e-02,\n",
              "       -1.300e-03,  2.780e-02, -1.018e-01,  1.046e-01,  1.009e-01,\n",
              "       -5.040e-02, -7.230e-02, -8.842e-01,  5.700e-02, -3.110e-02,\n",
              "        1.200e-02, -1.138e-01,  3.720e-02,  4.100e-02,  5.800e-03,\n",
              "       -6.400e-02,  4.760e-02,  1.690e-02,  7.370e-02, -1.066e-01,\n",
              "        3.340e-02,  5.400e-03,  1.488e-01,  9.290e-02, -3.870e-02,\n",
              "       -1.106e-01, -3.670e-02, -1.290e-02, -3.790e-02, -9.040e-02,\n",
              "        1.200e-02,  1.570e-01,  8.030e-02,  1.800e-03, -3.540e-02,\n",
              "       -6.800e-03,  3.670e-02,  7.070e-02,  7.390e-02, -6.610e-02,\n",
              "        6.600e-02, -2.346e-01,  6.500e-03, -2.180e-02,  7.100e-03,\n",
              "       -9.590e-02, -5.900e-02, -4.460e-02,  1.620e-02,  7.660e-02,\n",
              "       -6.360e-02,  2.440e-02,  6.370e-02,  2.000e-02,  1.432e-01,\n",
              "        1.660e-02,  3.630e-02, -3.000e-03,  8.000e-02,  1.119e-01,\n",
              "        1.973e-01,  1.610e-02, -1.208e-01, -1.000e-01, -5.400e-03,\n",
              "        9.210e-02,  8.340e-02, -5.080e-02,  3.210e-02, -1.217e-01,\n",
              "       -7.160e-02, -1.464e-01, -2.300e-03,  4.400e-03, -1.580e-02,\n",
              "        1.119e-01,  2.850e-02,  1.280e-01, -2.890e-02,  4.530e-02,\n",
              "       -1.290e-01, -5.000e-04,  2.400e-03,  1.445e-01, -4.580e-02,\n",
              "       -1.115e-01, -6.620e-02,  3.740e-02,  3.000e-02, -2.446e-01,\n",
              "       -1.644e-01, -6.170e-02, -1.600e-02, -9.080e-02, -3.970e-02,\n",
              "        1.089e-01,  4.070e-02, -5.880e-02, -6.830e-02,  8.650e-02,\n",
              "       -5.730e-02,  1.491e-01,  2.280e-02, -1.758e-01,  8.630e-02,\n",
              "       -2.293e-01, -7.730e-02,  1.125e-01, -1.700e-03,  3.150e-02,\n",
              "        4.120e-02,  4.550e-02,  1.710e-01, -6.500e-03,  3.850e-02,\n",
              "       -2.320e-02, -1.496e-01,  7.900e-02,  3.347e-01,  3.700e-03,\n",
              "        1.180e-01, -1.405e-01, -5.170e-02, -1.492e-01, -3.180e-02,\n",
              "        7.600e-03,  4.790e-02, -5.320e-02,  7.950e-02, -9.720e-02,\n",
              "       -8.780e-02,  1.465e-01, -6.930e-02,  1.720e-02, -4.920e-02,\n",
              "       -7.410e-02,  2.620e-02,  1.300e-03, -1.037e-01,  7.270e-02,\n",
              "       -5.640e-02,  8.700e-02,  5.210e-02, -1.330e-01,  2.700e-03,\n",
              "        1.930e-02, -4.020e-02, -1.041e-01,  1.190e-01,  5.510e-02,\n",
              "        2.000e-02, -1.820e-02,  1.000e-02, -1.056e-01, -6.190e-02,\n",
              "       -4.320e-02,  1.088e-01,  1.730e-02, -8.580e-02, -1.530e-02,\n",
              "        5.010e-02,  1.850e-02, -2.280e-02,  1.300e-02,  8.780e-02,\n",
              "       -2.190e-02,  6.750e-02, -9.200e-03,  2.740e-02, -8.000e-03,\n",
              "        1.170e-01, -2.310e-02, -5.150e-02, -6.670e-02,  7.510e-02,\n",
              "        1.780e-02, -1.189e-01,  5.320e-02,  1.776e-01, -7.100e-03,\n",
              "        2.163e-01,  4.360e-02, -8.780e-02,  7.210e-02, -1.461e-01,\n",
              "        1.316e-01,  5.860e-02, -4.200e-02,  1.480e-02, -1.650e-02,\n",
              "        9.600e-03, -1.670e-01,  5.730e-02, -1.710e-02, -5.680e-02,\n",
              "       -5.340e-02,  1.160e-02,  3.000e-04, -2.410e-02, -8.900e-03,\n",
              "       -3.130e-02, -6.670e-02, -7.880e-02, -7.470e-02, -2.198e-01,\n",
              "        1.189e-01,  4.330e-02, -1.900e-02, -1.315e-01,  4.000e-03,\n",
              "        3.110e-02, -1.418e-01,  8.470e-02, -6.150e-02,  1.660e-02,\n",
              "       -1.068e-01, -1.550e-02, -4.990e-02,  1.790e-01, -4.085e-01,\n",
              "       -5.310e-02,  8.540e-02, -4.110e-02,  1.302e-01,  6.640e-02,\n",
              "       -5.430e-02,  1.457e-01,  1.305e-01,  7.640e-02, -6.980e-02,\n",
              "        1.211e-01,  6.070e-02, -1.141e-01,  5.770e-02,  8.470e-02,\n",
              "        1.187e-01,  1.980e-02,  2.187e-01, -6.400e-02,  2.177e-01,\n",
              "       -6.000e-03,  5.940e-02, -9.640e-02,  6.270e-02, -8.030e-02,\n",
              "       -2.080e-02,  1.600e-02,  3.380e-02, -7.570e-02,  9.400e-03,\n",
              "       -5.750e-02, -1.170e-02, -3.661e-01, -3.100e-02,  1.386e-01])"
            ]
          },
          "metadata": {},
          "execution_count": 32
        }
      ]
    },
    {
      "cell_type": "code",
      "source": [
        ""
      ],
      "metadata": {
        "id": "5k_s6NrnNOYW"
      },
      "execution_count": null,
      "outputs": []
    }
  ]
}